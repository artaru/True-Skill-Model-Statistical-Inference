{
 "cells": [
  {
   "cell_type": "markdown",
   "id": "80cdd980",
   "metadata": {},
   "source": [
    "## Stochastic Variational Inference in the TrueSkill Model"
   ]
  },
  {
   "cell_type": "code",
   "execution_count": 25,
   "id": "31690f02",
   "metadata": {},
   "outputs": [],
   "source": [
    "import os\n",
    "import os.path\n",
    "\n",
    "import matplotlib.pyplot as plt\n",
    "import wget\n",
    "\n",
    "import pandas as pd\n",
    "import math\n",
    "\n",
    "\n",
    "import numpy as np\n",
    "from scipy.stats import norm\n",
    "import scipy.io\n",
    "import scipy.stats\n",
    "import torch\n",
    "import random\n",
    "from torch import nn\n",
    "from torch.distributions.normal import Normal\n",
    "\n",
    "from functools import partial\n",
    "from tqdm import trange, tqdm_notebook\n",
    "\n",
    "import matplotlib.pyplot as plt\n",
    "\n",
    "# Helper function\n",
    "def diag_gaussian_log_density(x, mu, std):\n",
    "    m = Normal(mu, std)\n",
    "    return torch.sum(m.log_prob(x), axis=-1)"
   ]
  },
  {
   "cell_type": "markdown",
   "id": "0f021459",
   "metadata": {},
   "source": [
    "## Part 1 Recap:\n",
    "\n",
    "### Model definition\n",
    "\n",
    "We assume that each player has a true, but unknown skill $z_i \\in \\mathbb{R}$.\n",
    "We use $N$ to denote the number of players.\n",
    "\n",
    "#### The prior:\n",
    "The prior over each player's skill is a standard normal distribution, and all player's skills are *a priori* independent.\n",
    "\n",
    "#### The likelihood:\n",
    "For each observed game, the probability that player $A$ beats player $B$, given the player's skills $z_A$ and $z_B$, is:\n",
    "$$p(A \\,\\, \\text{beat} \\,\\, B | z_A, z_B) = \\sigma(z_A - z_B)$$\n",
    "where\n",
    "$$\\sigma(y) = \\frac{1}{1 + \\exp(-y)}$$\n",
    "We chose this function simply because it's close to zero or one when the player's skills are very different, and equals one-half when the player skills are the same.  This likelihood function is the only thing that gives meaning to the latent skill variables $z_1 \\dots z_N$.\n",
    "\n",
    "There can be more than one game played between a pair of players. The outcome of each game is independent, given the players' skills.\n",
    "We use $M$ to denote the number of games.\n",
    "\n",
    "Let's recal some useful functions too:\n",
    "**a)** The function $\\texttt{log_joint_prior}$ computes the log of the prior, jointly evaluated over all player's skills.\n",
    "**b)** The function `logp_a_beats_b`, given a pair of skills $z_a$ and $z_b$, evaluates the log-likelihood that player with skill $z_a$ beat player with skill $z_b$ under the model detailed above.\n",
    "\n",
    "To ensure numerical stability, we use the function `np.log1p` that computes $\\log(1 + x)$ in a numerically stable way.  Or even better, use `np.logaddexp`."
   ]
  },
  {
   "cell_type": "code",
   "execution_count": 2,
   "id": "01e80f2c",
   "metadata": {},
   "outputs": [],
   "source": [
    "def log_joint_prior(zs_array):\n",
    "    return diag_gaussian_log_density(zs_array, torch.tensor([0.0]), torch.tensor([1.0]))\n",
    "\n",
    "def log_joint_prior(zs_array):\n",
    "    return diag_gaussian_log_density(zs_array, torch.tensor([0.0]), torch.tensor([1.0]))\n",
    "\n",
    "def logp_a_beats_b(z_a, z_b):\n",
    "    return -torch.logaddexp(torch.tensor([0.0]), z_b - z_a)\n",
    "\n",
    "def log_prior_over_2_players(z1, z2):\n",
    "    m = Normal(torch.tensor([0.0]), torch.tensor([[1.0]]))\n",
    "    return m.log_prob(z1) + m.log_prob(z2)\n",
    "\n",
    "def prior_over_2_players(z1, z2):\n",
    "    return torch.exp(log_prior_over_2_players(z1, z2))\n",
    "\n",
    "def log_posterior_A_beat_B(z1, z2):\n",
    "    return log_prior_over_2_players(z1, z2) + logp_a_beats_b(z1, z2)\n",
    "\n",
    "def posterior_A_beat_B(z1, z2):\n",
    "    return torch.exp(log_posterior_A_beat_B(z1, z2))\n",
    "\n",
    "def log_posterior_A_beat_B_10_times(z1, z2):\n",
    "    return log_prior_over_2_players(z1, z2) + 10.0 * logp_a_beats_b(z1, z2)\n",
    "\n",
    "def posterior_A_beat_B_10_times(z1, z2):\n",
    "    return torch.exp(log_posterior_A_beat_B_10_times(z1, z2))\n",
    "\n",
    "def log_posterior_beat_each_other_10_times(z1, z2):\n",
    "    return log_prior_over_2_players(z1, z2) \\\n",
    "        + 10.* logp_a_beats_b(z1, z2) \\\n",
    "        + 10.* logp_a_beats_b(z2, z1)\n",
    "\n",
    "def posterior_beat_each_other_10_times(z1, z2):\n",
    "    return torch.exp(log_posterior_beat_each_other_10_times(z1, z2))"
   ]
  },
  {
   "cell_type": "markdown",
   "id": "a2bece6c",
   "metadata": {},
   "source": [
    "The following functions will be used for plotting.  Note that `plot_2d_fun` can now take an optional second function, so you can compare two functions."
   ]
  },
  {
   "cell_type": "code",
   "execution_count": 5,
   "id": "c6c8baa3",
   "metadata": {},
   "outputs": [],
   "source": [
    "\n",
    "def plot_isocontours(ax, func, xlimits=[-4, 4], ylimits=[-4, 4], steps=101, cmap=\"summer\"):\n",
    "    x = torch.linspace(*xlimits, steps=steps)\n",
    "    y = torch.linspace(*ylimits, steps=steps)\n",
    "    X, Y = torch.meshgrid(x, y)\n",
    "    Z = func(X, Y)\n",
    "    plt.contour(X, Y, Z, cmap=cmap)\n",
    "    ax.set_yticks([])\n",
    "    ax.set_xticks([])\n",
    "\n",
    "def plot_2d_fun(f, x_axis_label=\"\", y_axis_label=\"\", f2=None, scatter_pts=None):\n",
    "\n",
    "    fig = plt.figure(figsize=(8,8), facecolor='white')\n",
    "    ax = fig.add_subplot(111, frameon=False)\n",
    "    ax.set_xlabel(x_axis_label)\n",
    "    ax.set_ylabel(y_axis_label)\n",
    "    plot_isocontours(ax, f)\n",
    "    if f2 is not None:\n",
    "        plot_isocontours(ax, f2, cmap='winter')\n",
    "\n",
    "    if scatter_pts is not None:\n",
    "        plt.scatter(scatter_pts[:,0], scatter_pts[:, 1])\n",
    "    plt.plot([4, -4], [4, -4], 'b--')   # Line of equal skill\n",
    "    plt.show(block=True)\n",
    "    plt.draw()"
   ]
  },
  {
   "cell_type": "markdown",
   "id": "74917fde",
   "metadata": {},
   "source": [
    "## Stochastic Variational Inference on Two Players and Toy Data\n",
    "\n",
    "One nice thing about a Bayesian approach is that it separates the model specification from the approximate inference strategy. The original Trueskill paper from 2007 used message passing.\n",
    "\n",
    "We will  approximate posterior distributions with gradient-based stochastic variational inference.\n",
    "\n",
    "The parameters are $\\phi = (\\mu,\\log(\\sigma))$. Notice that instead of $\\sigma$ (which is constrained to be positive), we work with $\\log(\\sigma)$, removing the constraint. This way, we can do unconstrained gradient-based optimization.\n",
    "\n",
    "At first let's implement functions to complete the evidence lower bound function and the reparameterized sampler for the approximate posterior."
   ]
  },
  {
   "cell_type": "code",
   "execution_count": 6,
   "id": "a76c686d",
   "metadata": {},
   "outputs": [],
   "source": [
    "def diag_gaussian_samples(mean, log_std, num_samples):\n",
    "    return mean + torch.exp(log_std) * torch.randn(num_samples, mean.shape[0])\n",
    "\n",
    "def diag_gaussian_logpdf(x, mean, log_std):\n",
    "    std = torch.exp(log_std)\n",
    "    D = mean.shape[0]\n",
    "    density = -0.5 * D * math.log(2 * math.pi) - torch.sum(log_std) - 0.5 * torch.sum(((x - mean) / std) ** 2, dim=1)\n",
    "    return density\n",
    "\n",
    "def batch_elbo(logprob, mean, log_std, num_samples):\n",
    "    samples = diag_gaussian_samples(mean, log_std, num_samples)\n",
    "    return torch.mean(logprob(samples) - diag_gaussian_logpdf(samples, mean, log_std))"
   ]
  },
  {
   "cell_type": "markdown",
   "id": "8b8da8b0",
   "metadata": {},
   "source": [
    "Now let's write a loss function called $\\texttt{objective}$  that takes variational distribution parameters, and returns an unbiased estimate of the negative elbo using $\\texttt{num_samples_per_iter}$ samples, to approximate the joint posterior over skills conditioned on observing player A winning 10 games."
   ]
  },
  {
   "cell_type": "code",
   "execution_count": 8,
   "id": "74066ce3",
   "metadata": {},
   "outputs": [],
   "source": [
    "num_players = 2\n",
    "n_iters = 800\n",
    "stepsize = 0.0001\n",
    "num_samples_per_iter = 50\n",
    "\n",
    "def log_posterior_A_beat_B_10_times_1_arg(z1z2):\n",
    "    return log_posterior_A_beat_B_10_times(z1z2[:,0], z1z2[:,1]).flatten()\n",
    "\n",
    "def objective(params):  \n",
    "    mean, log_std = params\n",
    "    return -batch_elbo(log_posterior_A_beat_B_10_times_1_arg, mean, log_std, num_samples_per_iter)"
   ]
  },
  {
   "cell_type": "markdown",
   "id": "8c4f6a62",
   "metadata": {},
   "source": [
    "Now we can initialize a set of variational parameters and optimize them to approximate the joint distribution where we observe player A winning 10 games. Let's also plto the target distribution "
   ]
  },
  {
   "cell_type": "code",
   "execution_count": 9,
   "id": "b7d698ed",
   "metadata": {},
   "outputs": [
    {
     "name": "stderr",
     "output_type": "stream",
     "text": [
      "\r",
      "  0%|                                                                                          | 0/800 [00:00<?, ?it/s]"
     ]
    },
    {
     "name": "stdout",
     "output_type": "stream",
     "text": [
      "Optimizing variational parameters...\n"
     ]
    },
    {
     "name": "stderr",
     "output_type": "stream",
     "text": [
      " 10%|███████▌                                                                        | 76/800 [00:00<00:02, 304.61it/s]"
     ]
    },
    {
     "name": "stdout",
     "output_type": "stream",
     "text": [
      "Iteration 0 lower bound 8.885974884033203\n",
      "Iteration 25 lower bound 9.521559715270996\n",
      "Iteration 50 lower bound 7.517348766326904\n",
      "Iteration 75 lower bound 5.967678070068359\n",
      "Iteration 100 lower bound 4.579402446746826\n",
      "Iteration 125 lower bound 4.903922080993652\n",
      "Iteration 150 lower bound 5.1009416580200195\n"
     ]
    },
    {
     "name": "stderr",
     "output_type": "stream",
     "text": [
      " 38%|██████████████████████████████▍                                                | 308/800 [00:00<00:00, 644.40it/s]"
     ]
    },
    {
     "name": "stdout",
     "output_type": "stream",
     "text": [
      "Iteration 175 lower bound 4.053757667541504\n",
      "Iteration 200 lower bound 3.9735584259033203\n",
      "Iteration 225 lower bound 3.868100643157959\n",
      "Iteration 250 lower bound 3.336135149002075\n",
      "Iteration 275 lower bound 3.5659825801849365\n",
      "Iteration 300 lower bound 3.035407066345215\n",
      "Iteration 325 lower bound 3.0310919284820557\n",
      "Iteration 350 lower bound 3.310670852661133\n"
     ]
    },
    {
     "name": "stderr",
     "output_type": "stream",
     "text": [
      " 56%|████████████████████████████████████████████▍                                  | 450/800 [00:00<00:00, 639.50it/s]"
     ]
    },
    {
     "name": "stdout",
     "output_type": "stream",
     "text": [
      "Iteration 375 lower bound 3.020430326461792\n",
      "Iteration 400 lower bound 3.116424560546875\n",
      "Iteration 425 lower bound 2.9525063037872314\n",
      "Iteration 450 lower bound 3.005530595779419\n",
      "Iteration 475 lower bound 3.079376220703125\n",
      "Iteration 500 lower bound 3.032322883605957\n"
     ]
    },
    {
     "name": "stderr",
     "output_type": "stream",
     "text": [
      " 82%|█████████████████████████████████████████████████████████████████▏             | 660/800 [00:01<00:00, 656.14it/s]"
     ]
    },
    {
     "name": "stdout",
     "output_type": "stream",
     "text": [
      "Iteration 525 lower bound 2.9509754180908203\n",
      "Iteration 550 lower bound 2.7846250534057617\n",
      "Iteration 575 lower bound 2.912384033203125\n",
      "Iteration 600 lower bound 2.9499447345733643\n",
      "Iteration 625 lower bound 2.942617416381836\n",
      "Iteration 650 lower bound 2.9133636951446533\n"
     ]
    },
    {
     "name": "stderr",
     "output_type": "stream",
     "text": [
      "\r",
      " 91%|███████████████████████████████████████████████████████████████████████▊       | 727/800 [00:01<00:00, 567.94it/s]"
     ]
    },
    {
     "name": "stdout",
     "output_type": "stream",
     "text": [
      "Iteration 675 lower bound 2.9101855754852295\n",
      "Iteration 700 lower bound 2.9294469356536865\n",
      "Iteration 725 lower bound 2.9088234901428223\n",
      "Iteration 750 lower bound 2.977482318878174\n",
      "Iteration 775 lower bound 3.138885498046875\n"
     ]
    },
    {
     "name": "stderr",
     "output_type": "stream",
     "text": [
      "100%|███████████████████████████████████████████████████████████████████████████████| 800/800 [00:01<00:00, 549.94it/s]\n"
     ]
    },
    {
     "data": {
      "image/png": "[encoded data removed]",
      "text/plain": [
       "<Figure size 576x576 with 1 Axes>"
      ]
     },
     "metadata": {},
     "output_type": "display_data"
    },
    {
     "data": {
      "text/plain": [
       "<Figure size 432x288 with 0 Axes>"
      ]
     },
     "metadata": {},
     "output_type": "display_data"
    }
   ],
   "source": [
    "def callback(params, t):\n",
    "    if t % 25 == 0:\n",
    "        print(\"Iteration {} lower bound {}\".format(t, objective(params)))\n",
    "\n",
    "\n",
    "D = 2\n",
    "init_log_std  = torch.tensor([0.0, 0.0], requires_grad=True) # TODO.\n",
    "init_mean = torch.tensor([0.0, 0.0], requires_grad=True)# TODO\n",
    "\n",
    "params = (init_mean, init_log_std)\n",
    "optimizer = torch.optim.SGD(params, lr=stepsize, momentum=0.9)\n",
    "\n",
    "def update():\n",
    "    optimizer.zero_grad()\n",
    "    loss = objective(params)\n",
    "    loss.backward()\n",
    "    optimizer.step()\n",
    "\n",
    "\n",
    "print(\"Optimizing variational parameters...\")\n",
    "for t in trange(0, n_iters):\n",
    "    update()\n",
    "    callback(params, t)\n",
    "\n",
    "\n",
    "def approx_posterior_2d(z1, z2):\n",
    "    # The approximate posterior\n",
    "    mean, logstd = params[0].detach(), params[1].detach()\n",
    "    zs = torch.stack([z1.flatten(), z2.flatten()], dim=1)\n",
    "    probs = torch.exp(diag_gaussian_logpdf(zs, mean, logstd))\n",
    "    return probs.view(z1.shape)\n",
    "\n",
    "plot_2d_fun(posterior_A_beat_B_10_times, \"Player A Skill\", \"Player B Skill\", f2=approx_posterior_2d)"
   ]
  },
  {
   "cell_type": "markdown",
   "id": "8ab158b8",
   "metadata": {},
   "source": [
    "Simillary, we can write a loss function called $\\texttt{objective}$  that takes the variational distribution parameters, and returns a negative ELBO estimate using simple Monte Carlo with $\\texttt{num_samples_per_iter}$ samples, to approximate the joint distribution where we observe player A winning 10 games and player B winning 10 games.\n"
   ]
  },
  {
   "cell_type": "code",
   "execution_count": 10,
   "id": "0eb5c474",
   "metadata": {},
   "outputs": [],
   "source": [
    "# Hyperparameters\n",
    "n_iters = 100\n",
    "stepsize = 0.0001\n",
    "num_samples_per_iter = 50\n",
    "\n",
    "def log_posterior_beat_each_other_10_times_1_arg(z1z2):\n",
    "    # z1z2 is a tensor with shape (num_samples x 2)\n",
    "    # Return a tensor with shape (num_samples)\n",
    "    z1, z2 = z1z2[:, 0], z1z2[:, 1]\n",
    "    return log_posterior_beat_each_other_10_times(z1, z2)\n",
    "\n",
    "def objective(params):\n",
    "    mean, log_std = params[0], params[1]\n",
    "    samples = diag_gaussian_samples(mean, log_std, num_samples_per_iter)\n",
    "    probs = log_posterior_beat_each_other_10_times_1_arg(samples)\n",
    "    return -torch.mean(probs)\n"
   ]
  },
  {
   "cell_type": "markdown",
   "id": "f997a434",
   "metadata": {},
   "source": [
    "Let's optimize the parameters, and report the final loss as well as plot the optimized variational approximation contours and the target distribution on the same axes."
   ]
  },
  {
   "cell_type": "code",
   "execution_count": 11,
   "id": "bd7a7b1a",
   "metadata": {},
   "outputs": [
    {
     "name": "stderr",
     "output_type": "stream",
     "text": [
      "100%|███████████████████████████████████████████████████████████████████████████████| 100/100 [00:00<00:00, 752.26it/s]"
     ]
    },
    {
     "name": "stdout",
     "output_type": "stream",
     "text": [
      "Optimizing variational parameters...\n",
      "Iteration 0 lower bound 20.006959915161133\n",
      "Iteration 25 lower bound 20.087932586669922\n",
      "Iteration 50 lower bound 18.575111389160156\n",
      "Iteration 75 lower bound 18.622404098510742\n"
     ]
    },
    {
     "name": "stderr",
     "output_type": "stream",
     "text": [
      "\n"
     ]
    },
    {
     "data": {
      "image/png": "[encoded data removed]",
      "text/plain": [
       "<Figure size 576x576 with 1 Axes>"
      ]
     },
     "metadata": {},
     "output_type": "display_data"
    },
    {
     "data": {
      "text/plain": [
       "<Figure size 432x288 with 0 Axes>"
      ]
     },
     "metadata": {},
     "output_type": "display_data"
    }
   ],
   "source": [
    "init_mean = torch.tensor([0.0, 0.0], requires_grad=True)\n",
    "init_log_std = torch.tensor([0.0, 0.0], requires_grad=True)\n",
    "params = (init_mean, init_log_std)\n",
    "optimizer = torch.optim.SGD(params, lr=stepsize, momentum=0.9)\n",
    "\n",
    "print(\"Optimizing variational parameters...\")\n",
    "for t in trange(0, n_iters):\n",
    "    update()\n",
    "    callback(params, t)\n",
    "\n",
    "plot_2d_fun(posterior_beat_each_other_10_times, \"Player A Skill\", \"Player B Skill\",\n",
    "            f2=approx_posterior_2d)"
   ]
  },
  {
   "cell_type": "markdown",
   "id": "3ea51158",
   "metadata": {},
   "source": [
    "### Approximate inference conditioned on real data"
   ]
  },
  {
   "cell_type": "markdown",
   "id": "e833312a",
   "metadata": {},
   "source": [
    "The dataset contains data on 2546 chess games amongst 1434 players:\n",
    " - 'names' is a 1434 by 1 matrix, whose $i$’th entry is the name of player $i$.\n",
    " - 'games' is a 2546 by 2 matrix of game outcomes (actually chess matches), one row per game.\n",
    "\n",
    "The first column of 'games' contains the indices of the players who won.\n",
    "The second column of 'games' contains the indices of the player who lost.\n",
    "\n",
    "It is based on the kaggle chess dataset: https://www.kaggle.com/datasets/datasnaek/chess"
   ]
  },
  {
   "cell_type": "code",
   "execution_count": 13,
   "id": "4c610289",
   "metadata": {},
   "outputs": [
    {
     "name": "stdout",
     "output_type": "stream",
     "text": [
      "\r",
      "  0% [                                                                              ]     0 / 12163\r",
      " 67% [....................................................                          ]  8192 / 12163\r",
      "100% [..............................................................................] 12163 / 12163\r",
      "  0% [                                                                              ]     0 / 20722\r",
      " 39% [..............................                                                ]  8192 / 20722\r",
      " 79% [.............................................................                 ] 16384 / 20722\r",
      "100% [..............................................................................] 20722 / 20722"
     ]
    }
   ],
   "source": [
    "wget.download(\"https://vahidbalazadeh.me/assets/datasets/chess_players.csv\")\n",
    "wget.download(\"https://vahidbalazadeh.me/assets/datasets/chess_games.csv\")\n",
    "games = pd.read_csv(\"chess_games.csv\")[[\"winner_id\", \"loser_id\"]].to_numpy()\n",
    "names = pd.read_csv(\"chess_players.csv\")[[\"player_name\"]].to_numpy().astype('str')\n",
    "\n",
    "games = torch.LongTensor(games)"
   ]
  },
  {
   "cell_type": "markdown",
   "id": "6f31a447",
   "metadata": {},
   "source": [
    "Assuming all game outcomes are i.i.d. conditioned on all players' skills, the function $\\texttt{log_games_likelihood}$ below takes a batch of player skills $\\texttt{zs}$ and a collection of observed games $\\texttt{games}$ and gives the total log-likelihood for all those observations given all the skills. "
   ]
  },
  {
   "cell_type": "code",
   "execution_count": 15,
   "id": "8cd50cae",
   "metadata": {},
   "outputs": [],
   "source": [
    "def log_games_likelihood(zs, games):\n",
    "    winning_player_ixs = games[:,0]\n",
    "    losing_player_ixs = games[:,1]\n",
    "\n",
    "    winning_player_skills = zs[:, winning_player_ixs]\n",
    "    losing_player_skills = zs[:, losing_player_ixs]\n",
    "\n",
    "    log_likelihoods = logp_a_beats_b(winning_player_skills, losing_player_skills)\n",
    "    return torch.sum(log_likelihoods, dim=1)\n",
    "\n",
    "def log_joint_probability(zs):\n",
    "    return log_joint_prior(zs) + log_games_likelihood(zs, games)"
   ]
  },
  {
   "cell_type": "markdown",
   "id": "a96c6ca9",
   "metadata": {},
   "source": [
    "Below, we initialize a variational distribution and fit it to the joint distribution with all the observed tennis games from the datase as well as the objective function."
   ]
  },
  {
   "cell_type": "code",
   "execution_count": 16,
   "id": "0d43064e",
   "metadata": {},
   "outputs": [],
   "source": [
    "num_players = 1434\n",
    "n_iters = 500\n",
    "stepsize = 0.0001\n",
    "num_samples_per_iter = 150\n",
    "\n",
    "def objective(params):\n",
    "    return -batch_elbo(log_joint_probability, params[0], params[1], num_samples_per_iter)"
   ]
  },
  {
   "cell_type": "markdown",
   "id": "bd8d769d",
   "metadata": {},
   "source": [
    "Now let's optimize and report the final loss"
   ]
  },
  {
   "cell_type": "code",
   "execution_count": 17,
   "id": "2a1dacaa",
   "metadata": {},
   "outputs": [
    {
     "name": "stderr",
     "output_type": "stream",
     "text": [
      "  1%|█▏                                                                                | 7/500 [00:00<00:14, 33.54it/s]"
     ]
    },
    {
     "name": "stdout",
     "output_type": "stream",
     "text": [
      "Iteration 0 lower bound 2291.8408203125\n"
     ]
    },
    {
     "name": "stderr",
     "output_type": "stream",
     "text": [
      "  6%|████▋                                                                            | 29/500 [00:00<00:16, 27.89it/s]"
     ]
    },
    {
     "name": "stdout",
     "output_type": "stream",
     "text": [
      "Iteration 25 lower bound 2186.3017578125\n"
     ]
    },
    {
     "name": "stderr",
     "output_type": "stream",
     "text": [
      " 11%|████████▋                                                                        | 54/500 [00:01<00:14, 31.74it/s]"
     ]
    },
    {
     "name": "stdout",
     "output_type": "stream",
     "text": [
      "Iteration 50 lower bound 2081.920654296875\n"
     ]
    },
    {
     "name": "stderr",
     "output_type": "stream",
     "text": [
      " 16%|█████████████                                                                    | 81/500 [00:02<00:14, 28.01it/s]"
     ]
    },
    {
     "name": "stdout",
     "output_type": "stream",
     "text": [
      "Iteration 75 lower bound 2001.042236328125\n"
     ]
    },
    {
     "name": "stderr",
     "output_type": "stream",
     "text": [
      " 21%|████████████████▊                                                               | 105/500 [00:03<00:13, 30.09it/s]"
     ]
    },
    {
     "name": "stdout",
     "output_type": "stream",
     "text": [
      "Iteration 100 lower bound 1936.94775390625\n"
     ]
    },
    {
     "name": "stderr",
     "output_type": "stream",
     "text": [
      " 26%|█████████████████████                                                           | 132/500 [00:04<00:11, 32.93it/s]"
     ]
    },
    {
     "name": "stdout",
     "output_type": "stream",
     "text": [
      "Iteration 125 lower bound 1876.08544921875\n"
     ]
    },
    {
     "name": "stderr",
     "output_type": "stream",
     "text": [
      " 31%|████████████████████████▉                                                       | 156/500 [00:04<00:09, 34.86it/s]"
     ]
    },
    {
     "name": "stdout",
     "output_type": "stream",
     "text": [
      "Iteration 150 lower bound 1836.3558349609375\n"
     ]
    },
    {
     "name": "stderr",
     "output_type": "stream",
     "text": [
      " 36%|████████████████████████████▊                                                   | 180/500 [00:05<00:09, 33.92it/s]"
     ]
    },
    {
     "name": "stdout",
     "output_type": "stream",
     "text": [
      "Iteration 175 lower bound 1803.2603759765625\n"
     ]
    },
    {
     "name": "stderr",
     "output_type": "stream",
     "text": [
      " 41%|████████████████████████████████▋                                               | 204/500 [00:06<00:08, 34.72it/s]"
     ]
    },
    {
     "name": "stdout",
     "output_type": "stream",
     "text": [
      "Iteration 200 lower bound 1774.2879638671875\n"
     ]
    },
    {
     "name": "stderr",
     "output_type": "stream",
     "text": [
      " 46%|█████████████████████████████████████                                           | 232/500 [00:07<00:07, 34.09it/s]"
     ]
    },
    {
     "name": "stdout",
     "output_type": "stream",
     "text": [
      "Iteration 225 lower bound 1748.1439208984375\n"
     ]
    },
    {
     "name": "stderr",
     "output_type": "stream",
     "text": [
      " 51%|█████████████████████████████████████████                                       | 257/500 [00:07<00:06, 36.98it/s]"
     ]
    },
    {
     "name": "stdout",
     "output_type": "stream",
     "text": [
      "Iteration 250 lower bound 1725.499267578125\n"
     ]
    },
    {
     "name": "stderr",
     "output_type": "stream",
     "text": [
      " 56%|████████████████████████████████████████████▋                                   | 279/500 [00:08<00:06, 33.51it/s]"
     ]
    },
    {
     "name": "stdout",
     "output_type": "stream",
     "text": [
      "Iteration 275 lower bound 1709.5557861328125\n"
     ]
    },
    {
     "name": "stderr",
     "output_type": "stream",
     "text": [
      " 61%|████████████████████████████████████████████████▍                               | 303/500 [00:09<00:05, 33.01it/s]"
     ]
    },
    {
     "name": "stdout",
     "output_type": "stream",
     "text": [
      "Iteration 300 lower bound 1692.5758056640625\n"
     ]
    },
    {
     "name": "stderr",
     "output_type": "stream",
     "text": [
      " 67%|█████████████████████████████████████████████████████▎                          | 333/500 [00:10<00:04, 35.57it/s]"
     ]
    },
    {
     "name": "stdout",
     "output_type": "stream",
     "text": [
      "Iteration 325 lower bound 1678.8575439453125\n"
     ]
    },
    {
     "name": "stderr",
     "output_type": "stream",
     "text": [
      " 72%|█████████████████████████████████████████████████████████▍                      | 359/500 [00:10<00:03, 38.83it/s]"
     ]
    },
    {
     "name": "stdout",
     "output_type": "stream",
     "text": [
      "Iteration 350 lower bound 1668.9974365234375\n"
     ]
    },
    {
     "name": "stderr",
     "output_type": "stream",
     "text": [
      " 77%|█████████████████████████████████████████████████████████████▍                  | 384/500 [00:11<00:02, 38.82it/s]"
     ]
    },
    {
     "name": "stdout",
     "output_type": "stream",
     "text": [
      "Iteration 375 lower bound 1656.44140625\n"
     ]
    },
    {
     "name": "stderr",
     "output_type": "stream",
     "text": [
      " 82%|█████████████████████████████████████████████████████████████████▎              | 408/500 [00:12<00:02, 40.10it/s]"
     ]
    },
    {
     "name": "stdout",
     "output_type": "stream",
     "text": [
      "Iteration 400 lower bound 1643.4393310546875\n"
     ]
    },
    {
     "name": "stderr",
     "output_type": "stream",
     "text": [
      " 87%|█████████████████████████████████████████████████████████████████████▎          | 433/500 [00:12<00:01, 41.04it/s]"
     ]
    },
    {
     "name": "stdout",
     "output_type": "stream",
     "text": [
      "Iteration 425 lower bound 1636.2481689453125\n"
     ]
    },
    {
     "name": "stderr",
     "output_type": "stream",
     "text": [
      " 91%|████████████████████████████████████████████████████████████████████████▊       | 455/500 [00:13<00:01, 37.75it/s]"
     ]
    },
    {
     "name": "stdout",
     "output_type": "stream",
     "text": [
      "Iteration 450 lower bound 1628.0616455078125\n"
     ]
    },
    {
     "name": "stderr",
     "output_type": "stream",
     "text": [
      " 96%|████████████████████████████████████████████████████████████████████████████▊   | 480/500 [00:13<00:00, 37.02it/s]"
     ]
    },
    {
     "name": "stdout",
     "output_type": "stream",
     "text": [
      "Iteration 475 lower bound 1625.64453125\n"
     ]
    },
    {
     "name": "stderr",
     "output_type": "stream",
     "text": [
      "100%|████████████████████████████████████████████████████████████████████████████████| 500/500 [00:14<00:00, 34.69it/s]"
     ]
    },
    {
     "name": "stdout",
     "output_type": "stream",
     "text": [
      "Final loss: 1618.2259521484375\n",
      "\n"
     ]
    },
    {
     "name": "stderr",
     "output_type": "stream",
     "text": [
      "\n"
     ]
    }
   ],
   "source": [
    "def callback(params, t):\n",
    "    if t % 25 == 0:\n",
    "        print(\"Iteration {} lower bound {}\".format(t, objective(params)))# Set up optimizer.\n",
    "\n",
    "init_mean = torch.zeros(num_players, requires_grad=True)\n",
    "init_log_std  = torch.zeros(num_players, requires_grad=True)\n",
    "params = (init_mean, init_log_std)\n",
    "optimizer = torch.optim.SGD(params, lr=stepsize, momentum=0.9)\n",
    "\n",
    "def update():\n",
    "    optimizer.zero_grad()\n",
    "    loss = objective(params)\n",
    "    loss.backward()\n",
    "    optimizer.step()\n",
    "\n",
    "# Optimize and print loss in a loop\n",
    "# HINT: you can use the callback() function to report loss\n",
    "\n",
    "for t in trange(0, n_iters):\n",
    "    update()\n",
    "    callback(params, t)\n",
    "\n",
    "print(f\"Final loss: {objective(params).item()}\\n\")"
   ]
  },
  {
   "cell_type": "markdown",
   "id": "135e3de7",
   "metadata": {},
   "source": [
    "We can plot the approximate mean and variance of all players, sorted by skill."
   ]
  },
  {
   "cell_type": "code",
   "execution_count": 18,
   "id": "109acdcc",
   "metadata": {},
   "outputs": [
    {
     "data": {
      "text/plain": [
       "<ErrorbarContainer object of 3 artists>"
      ]
     },
     "execution_count": 18,
     "metadata": {},
     "output_type": "execute_result"
    },
    {
     "data": {
      "image/png": "[encoded data removed]",
      "text/plain": [
       "<Figure size 432x288 with 1 Axes>"
      ]
     },
     "metadata": {
      "needs_background": "light"
     },
     "output_type": "display_data"
    }
   ],
   "source": [
    "\n",
    "mean_skills, logstd_skills = params[0].detach(), params[1].detach()\n",
    "order = torch.argsort(mean_skills)\n",
    "\n",
    "plt.xlabel(\"Player Rank\")\n",
    "plt.ylabel(\"Player Skill\")\n",
    "plt.errorbar(range(num_players),mean_skills[order], torch.exp(logstd_skills))"
   ]
  },
  {
   "cell_type": "markdown",
   "id": "14f91d4e",
   "metadata": {},
   "source": [
    "Simillary to part 1 we can plot samples from the joint posterior over the skills of some 2 players, for example let's take 'lelik3310' and 'thebestofthebad'. "
   ]
  },
  {
   "cell_type": "code",
   "execution_count": 21,
   "id": "6762864b",
   "metadata": {},
   "outputs": [
    {
     "data": {
      "text/plain": [
       "<matplotlib.collections.PathCollection at 0x20c23807df0>"
      ]
     },
     "execution_count": 21,
     "metadata": {},
     "output_type": "execute_result"
    },
    {
     "data": {
      "image/png": "[encoded data removed]",
      "text/plain": [
       "<Figure size 576x576 with 1 Axes>"
      ]
     },
     "metadata": {},
     "output_type": "display_data"
    }
   ],
   "source": [
    "lelik3310_ix = np.where(names == \"lelik3310\")[0][0]\n",
    "thebestofthebad_ix = np.where(names == \"thebestofthebad\")[0][0]\n",
    "\n",
    "fig = plt.figure(figsize=(8,8), facecolor='white')\n",
    "\n",
    "plt.xlabel(\"lelik3310 Skill\")\n",
    "plt.ylabel(\"thebestofthebad Skill\")\n",
    "\n",
    "plt.plot([3, -3], [3, -3], 'b--')\n",
    "\n",
    "# Line of equal skill\n",
    "samples = diag_gaussian_samples(mean_skills, logstd_skills, 100)\n",
    "\n",
    "lelik3310 = samples[:, lelik3310_ix].detach()\n",
    "thebestofthebad = samples[:, thebestofthebad_ix].detach()\n",
    "\n",
    "plt.scatter(lelik3310, thebestofthebad, alpha=0.6)"
   ]
  },
  {
   "cell_type": "markdown",
   "id": "30f0f119",
   "metadata": {},
   "source": [
    "As we can see based on the collected samples, the skills of lelik3310 appear to be better than the skills of thebestofthebad, since the samples are mainly located to the right of the diagonal."
   ]
  },
  {
   "cell_type": "markdown",
   "id": "69822cc0",
   "metadata": {},
   "source": [
    "Note that we can derive the exact probability under a factorized Gaussian over two players’ skills that one has higher skill than the other, as a function of the two means and variances over their skills. "
   ]
  },
  {
   "cell_type": "markdown",
   "id": "01e3e663",
   "metadata": {},
   "source": [
    "At first let's apply a linear change of variables defining $y_A,y_B=z_A-z_B,z_B$, where $z_A$ and $z_B$ denote the independent skills of two players. Then we can conclude that $\\mu_{y_A} = \\mu_A - \\mu_B$, where $\\mu_A$ and $\\mu_B$ are the means of skills $z_A$ and $z_B$. Then note that $P(z_A > z_B) = P(y_A> 0)$.\n",
    "\n",
    "Since $y_A$ is a Gaussian random variable, we can use cumulative distribution function of Gaussian distribution ($\\Phi$) to express $P(y_A> 0)$ as:\n",
    "\n",
    "$$1 - P(y_A \\leq0) = 1-\\Phi \\left(\\frac{0-\\mu_{y_A}}{\\sigma_{y_A}} \\right) $$\n",
    "$$=1-\\Phi \\left(\\frac{-(\\mu_A-\\mu_B)}{\\sigma_{y_A}} \\right)$$\n",
    "$$= 1 - \\Phi \\left( \\frac{\\mu_B - \\mu_A}{\\sqrt{\\sigma^2_A + \\sigma^2_B}} \\right)\n",
    "$$\n"
   ]
  },
  {
   "cell_type": "markdown",
   "id": "714d4e6c",
   "metadata": {},
   "source": [
    "Using that derivation we will compute the probability that lelik3310 has higher skill than thebestofthebad. "
   ]
  },
  {
   "cell_type": "code",
   "execution_count": 24,
   "id": "4459003c",
   "metadata": {},
   "outputs": [
    {
     "name": "stdout",
     "output_type": "stream",
     "text": [
      "Exact CDF Estimate: 0.9760883450508118\n",
      "Simple MC Estimate: 0.9887999892234802\n"
     ]
    }
   ],
   "source": [
    "def prob_A_superior_B(N, A_ix, B_ix):\n",
    "    mean_A,  sigma_A = mean_skills[A_ix], torch.exp(logstd_skills[A_ix])\n",
    "    mean_B,  sigma_B = mean_skills[B_ix], torch.exp(logstd_skills[B_ix])\n",
    "\n",
    "    formula_est = 1 - Normal(0,1).cdf((mean_B-mean_A) / torch.sqrt(sigma_A**2 + sigma_A**2))\n",
    "\n",
    "    samples_A = Normal(mean_A, sigma_A).sample([N])\n",
    "    samples_B = Normal(mean_B, sigma_B).sample([N])\n",
    "\n",
    "    mc_est = (samples_A > samples_B).float().mean()\n",
    "    return formula_est, mc_est\n",
    "\n",
    "formula_est, mc_est = prob_A_superior_B(10000, lelik3310_ix, thebestofthebad_ix)\n",
    "print(f\"Exact CDF Estimate: {formula_est}\")\n",
    "print(f\"Simple MC Estimate: {mc_est}\")"
   ]
  },
  {
   "cell_type": "markdown",
   "id": "9764c343",
   "metadata": {},
   "source": [
    "## Comparing methods from Part 1 and 2"
   ]
  },
  {
   "cell_type": "markdown",
   "id": "fd27dfeb",
   "metadata": {},
   "source": [
    "To answer the question of which approximate inference method is producing a better overall approximation to the true posterior over all skills conditioned on all games:\n",
    "\n",
    "The SVI model's diagonal covariance matrix doesn't represent\n",
    "relative skills between players very well. Even the trained approximations don't model\n",
    "the true posterior distribution well. Recalling back to the HMC model, it's\n",
    "apparent that it is more effective at approximating the true posterior. We can see that with MCMC the convergence took longer and skill rankings seemed to fluctuate more,but at the same time note that MCMC provides guarantee of generating samples from the true posterior distribution while variational inference does not provide this guarantee. Since the data set is not that big and we want to produce a better overall approximation to the true posterior over all skills MCMC would be a better algorithm.\n"
   ]
  }
 ],
 "metadata": {
  "kernelspec": {
   "display_name": "Python 3",
   "language": "python",
   "name": "python3"
  },
  "language_info": {
   "codemirror_mode": {
    "name": "ipython",
    "version": 3
   },
   "file_extension": ".py",
   "mimetype": "text/x-python",
   "name": "python",
   "nbconvert_exporter": "python",
   "pygments_lexer": "ipython3",
   "version": "3.8.8"
  }
 },
 "nbformat": 4,
 "nbformat_minor": 5
}
